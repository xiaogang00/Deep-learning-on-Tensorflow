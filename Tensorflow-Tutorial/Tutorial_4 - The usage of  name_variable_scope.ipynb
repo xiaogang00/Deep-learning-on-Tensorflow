{
 "cells": [
  {
   "cell_type": "markdown",
   "metadata": {
    "collapsed": false
   },
   "source": [
    "# name/variable_scope 的作用\n",
    "@author: huangyongye<br/>\n",
    "@creat_date: 2017-03-08<br/><br/>\n",
    "refer to: https://www.tensorflow.org/programmers_guide/variable_scope <br/>\n",
    "** 起因：在运行 RNN LSTM 实例代码的时候出现 ValueError。 ** <br/>\n",
    "在 TensorFlow 中，经常会看到这两个东东出现，这到底是什么鬼，是用来干嘛的。在做 LSTM 的时候遇到了下面的错误：<br/>\n",
    " <font color='red'>ValueError: Variable rnn/basic_lstm_cell/weights already exists, disallowed.</font><br/>\n",
    "然后谷歌百度都查了一遍，结果也不知是咋回事。我是在 jupyter notebook 运行的示例程序，第一次运行的时候没错，然后就总是出现上面的错误。后来才知道是 get_variable() 和 variable_scope() 搞的鬼。 <br/>\n",
    "下面就来分析一下 TensorFlow 中到底用这来干啥。"
   ]
  },
  {
   "cell_type": "code",
   "execution_count": 1,
   "metadata": {
    "collapsed": true
   },
   "outputs": [],
   "source": [
    "import tensorflow as tf"
   ]
  },
  {
   "cell_type": "code",
   "execution_count": 2,
   "metadata": {
    "collapsed": false
   },
   "outputs": [],
   "source": [
    "# 设置GPU按需增长\n",
    "config = tf.ConfigProto()\n",
    "config.gpu_options.allow_growth = True\n",
    "sess = tf.Session(config=config)"
   ]
  },
  {
   "cell_type": "code",
   "execution_count": 4,
   "metadata": {
    "collapsed": true
   },
   "outputs": [],
   "source": [
    "tf.Variable?"
   ]
  },
  {
   "cell_type": "markdown",
   "metadata": {
    "collapsed": true
   },
   "source": [
    "## 1. 首先看看比较简单的 tf.name_scope('scope_name'). "
   ]
  },
  {
   "cell_type": "markdown",
   "metadata": {},
   "source": [
    "tf.name_scope 主要结合 tf.Variable() 来使用，方便参数命名管理。"
   ]
  },
  {
   "cell_type": "code",
   "execution_count": 3,
   "metadata": {
    "collapsed": false
   },
   "outputs": [
    {
     "name": "stdout",
     "output_type": "stream",
     "text": [
      "conv1/weights:0\n",
      "conv2/weights:0\n"
     ]
    }
   ],
   "source": [
    "'''\n",
    "Signature: tf.name_scope(*args, **kwds)\n",
    "Docstring:\n",
    "Returns a context manager for use when defining a Python op.\n",
    "'''\n",
    "# 也就是说，它的主要目的是为了更加方便地管理参数命名。\n",
    "# 与 tf.Variable() 结合使用。简化了命名\n",
    "with tf.name_scope('conv1') as scope:\n",
    "    weights1 = tf.Variable([1.0, 2.0], name='weights')\n",
    "    bias1 = tf.Variable([0.3], name='bias')\n",
    "\n",
    "# 下面是在另外一个命名空间来定义变量的\n",
    "with tf.name_scope('conv2') as scope:\n",
    "    weights2 = tf.Variable([4.0, 2.0], name='weights')\n",
    "    bias2 = tf.Variable([0.33], name='bias')\n",
    "\n",
    "# 所以，实际上weights1 和 weights2 这两个引用名指向了不同的空间，不会冲突\n",
    "print weights1.name\n",
    "print weights2.name"
   ]
  },
  {
   "cell_type": "code",
   "execution_count": 4,
   "metadata": {
    "collapsed": false
   },
   "outputs": [
    {
     "name": "stdout",
     "output_type": "stream",
     "text": [
      "conv1_1/weights:0\n",
      "conv2_1/weights:0\n"
     ]
    }
   ],
   "source": [
    "# 注意，这里的 with 和 python 中其他的 with 是不一样的\n",
    "# 执行完 with 里边的语句之后，这个 conv1/ 和 conv2/ 空间还是在内存中的。这时候如果再次执行上面的代码\n",
    "# 就会再生成其他命名空间\n",
    "with tf.name_scope('conv1') as scope:\n",
    "    weights1 = tf.Variable([1.0, 2.0], name='weights')\n",
    "    bias1 = tf.Variable([0.3], name='bias')\n",
    "\n",
    "with tf.name_scope('conv2') as scope:\n",
    "    weights2 = tf.Variable([4.0, 2.0], name='weights')\n",
    "    bias2 = tf.Variable([0.33], name='bias')\n",
    "\n",
    "print weights1.name\n",
    "print weights2.name"
   ]
  },
  {
   "cell_type": "code",
   "execution_count": 1,
   "metadata": {
    "collapsed": true
   },
   "outputs": [],
   "source": [
    "import tensorflow as tf"
   ]
  },
  {
   "cell_type": "markdown",
   "metadata": {},
   "source": [
    "## 2.下面来看看 tf.variable_scope('scope_name') "
   ]
  },
  {
   "cell_type": "markdown",
   "metadata": {},
   "source": [
    "tf.variable_scope() 主要结合 tf.get_variable() 来使用，实现 变量共享。"
   ]
  },
  {
   "cell_type": "code",
   "execution_count": 1,
   "metadata": {
    "collapsed": false
   },
   "outputs": [
    {
     "name": "stdout",
     "output_type": "stream",
     "text": [
      "v_scope/Weights:0\n",
      "v_scope/Weights:0\n"
     ]
    }
   ],
   "source": [
    "# 这里是正确的打开方式~~~可以看出，name 参数才是对象的唯一标识\n",
    "import tensorflow as tf\n",
    "with tf.variable_scope('v_scope') as scope1:\n",
    "    Weights1 = tf.get_variable('Weights', shape=[2,3])\n",
    "    bias1 = tf.get_variable('bias', shape=[3])\n",
    "    \n",
    "# 下面来共享上面已经定义好的变量\n",
    "# note: 在下面的 scope 中的变量必须已经定义过了，才能设置 reuse=True，否则会报错\n",
    "with tf.variable_scope('v_scope', reuse=True) as scope2:\n",
    "    Weights2 = tf.get_variable('Weights')\n",
    "\n",
    "print Weights1.name\n",
    "print Weights2.name\n",
    "# 可以看到这两个引用名称指向的是同一个内存对象"
   ]
  },
  {
   "cell_type": "markdown",
   "metadata": {},
   "source": [
    "也可以结合 tf.Variable() 一块使用。"
   ]
  },
  {
   "cell_type": "code",
   "execution_count": 2,
   "metadata": {
    "collapsed": false
   },
   "outputs": [
    {
     "name": "stdout",
     "output_type": "stream",
     "text": [
      "v_scope/Weights:0\n",
      "v_scope/Weights:0\n",
      "v_scope_1/bias:0\n"
     ]
    }
   ],
   "source": [
    "import tensorflow as tf\n",
    "# 注意， bias1 的定义方式\n",
    "with tf.variable_scope('v_scope') as scope1:\n",
    "    Weights1 = tf.get_variable('Weights', shape=[2,3])\n",
    "#     bias1 = tf.Variable([0.52], name='bias')\n",
    "    \n",
    "# 下面来共享上面已经定义好的变量\n",
    "# note: 在下面的 scope 中的get_variable()变量必须已经定义过了，才能设置 reuse=True，否则会报错\n",
    "with tf.variable_scope('v_scope', reuse=True) as scope2:\n",
    "    Weights2 = tf.get_variable('Weights')\n",
    "    bias2 = tf.Variable([0.52], name='bias')\n",
    "\n",
    "print Weights1.name\n",
    "print Weights2.name\n",
    "print bias2.name"
   ]
  },
  {
   "cell_type": "markdown",
   "metadata": {},
   "source": [
    "如果 reuse=True 的scope中的变量没有已经定义，会报错！！"
   ]
  },
  {
   "cell_type": "code",
   "execution_count": 1,
   "metadata": {
    "collapsed": false
   },
   "outputs": [
    {
     "name": "stdout",
     "output_type": "stream",
     "text": [
      "v_scope/Weights:0\n",
      "v_scope/bias:0\n"
     ]
    }
   ],
   "source": [
    "import tensorflow as tf\n",
    "# 注意， bias1 的定义方式\n",
    "with tf.variable_scope('v_scope') as scope1:\n",
    "    Weights1 = tf.get_variable('Weights', shape=[2,3])\n",
    "    bias1 = tf.Variable([0.52], name='bias')\n",
    "    \n",
    "print Weights1.name\n",
    "print bias1.name\n",
    "    \n",
    "# 下面来共享上面已经定义好的变量\n",
    "# note: 在下面的 scope 中的get_variable()变量必须已经定义过了，才能设置 reuse=True，否则会报错\n",
    "with tf.variable_scope('v_scope', reuse=True) as scope2:\n",
    "    Weights2 = tf.get_variable('Weights')\n",
    "    bias2 = tf.get_variable('bias', [1])  # ‘bias\n",
    "\n",
    "print Weights2.name\n",
    "print bias2.name\n",
    "\n",
    "# 这样子的话就会报错\n",
    "# Variable v_scope/bias does not exist, or was not created with tf.get_variable()"
   ]
  },
  {
   "cell_type": "markdown",
   "metadata": {},
   "source": [
    "## 3. RNN/LSTM 常常这样用"
   ]
  },
  {
   "cell_type": "markdown",
   "metadata": {},
   "source": [
    "refer to: https://morvanzhou.github.io/tutorials/machine-learning/tensorflow/5-12-scope/ <br/>\n",
    "RNN 和普通的网络是不太一样的，主要区别就是很多情况下，<font color=\"red\">训练网络和测试网络结构不一样</font>，我们用 train_rnn 来指训练网络，用 test_rnn 来指测试网络。<br/>\n",
    "在官方给的利用 LSTM 来对 MNIST 字符分类的例子中，train_rnn 和 test_rnn 是一样的。我们都是通过输入 28 个time_steps 之后输出它的类别，无论是训练还是测试的时候都是这样。<br/>\n",
    "但是，在 char_rnn 语言模型中:\n",
    "- 训练时候，我们输入<font color=\"red\">40个字符</font>，然后输出一个字符，再来计算 loss。 <br/>\n",
    "- 而当模型训练好了之后，我们都是每看到<font color=\"red\"> 1 个新的字符</font>,我们就会对下一个字符做预测。<br/>\n",
    "所以会有 train_rnn 和 test_rnn 两个不同的结构。但是我们的 test_rnn 只是输出的频率不一样而已（每一步都输出），它所用到的所有参数都是在 train_rnn 中已经训练好的。所以，**由于结构不同，而所需要的参数相同**，我们就可以，或者说就必须要用到变量共享的机制了。下面是我们使用的方法。"
   ]
  },
  {
   "cell_type": "code",
   "execution_count": null,
   "metadata": {
    "collapsed": true
   },
   "outputs": [],
   "source": [
    "with tf.variable_scope('rnn') as scope:\n",
    "    sess = tf.Session()\n",
    "    train_rnn = RNN(train_config)\n",
    "    # 声明变量共享\n",
    "    scope.reuse_variables()\n",
    "    test_rnn = RNN(test_config)\n",
    "    sess.run(tf.global_variables_initializer())"
   ]
  }
 ],
 "metadata": {
  "anaconda-cloud": {},
  "kernelspec": {
   "display_name": "Python [default]",
   "language": "python",
   "name": "python2"
  },
  "language_info": {
   "codemirror_mode": {
    "name": "ipython",
    "version": 2
   },
   "file_extension": ".py",
   "mimetype": "text/x-python",
   "name": "python",
   "nbconvert_exporter": "python",
   "pygments_lexer": "ipython2",
   "version": "2.7.12"
  }
 },
 "nbformat": 4,
 "nbformat_minor": 1
}
